{
 "cells": [
  {
   "cell_type": "markdown",
   "metadata": {},
   "source": [
    "# 循环结构\n",
    "\n",
    "在Python中构造循环结构有两种做法，一种是`for-in`循环，一种是`while`循环。\n",
    "\n",
    "## for-in循环\n",
    "\n",
    "如果明确知道循环执行的次数或者要对一个容器进行迭代，推荐使用for-in循环。\n",
    "\n",
    "例如下面代码中计算1~100求和的结果（$\\displaystyle \\sum \\limits_{n=1}^{100}n$）"
   ]
  },
  {
   "cell_type": "code",
   "execution_count": null,
   "metadata": {},
   "outputs": [],
   "source": [
    "\"\"\"\n",
    "for-in循环实现1~100求和\n",
    "\"\"\"\n",
    "\n",
    "sum = 0\n",
    "for i in range(101):   # range(x, y, step)构造一个从x到y -1的取值范围, 步长(增量)为step\n",
    "    sum += i\n",
    "\n",
    "print(('sum(1~100) = %d') % (sum))"
   ]
  },
  {
   "cell_type": "code",
   "execution_count": null,
   "metadata": {},
   "outputs": [],
   "source": [
    "\"\"\"\n",
    "for-in 循环实现1~100之间的偶数求和\n",
    "\"\"\"\n",
    "\n",
    "sum = 0\n",
    "for i in range(2, 101, 2):   # 2, 4, 6, 8...\n",
    "    sum += i\n",
    "\n",
    "print(('sum(1~100) = %d') % (sum))"
   ]
  },
  {
   "cell_type": "markdown",
   "metadata": {},
   "source": [
    "## while循环\n",
    "\n",
    "要构造不知道具体循环次数的循环结构，推荐使用`while`循环。\n",
    "\n",
    "`while`循环通过一个能够产生或转换出`bool`值的表达式来控制循环，表达式的值为`True`循环继续，表达式的值为`False`循环结束。"
   ]
  },
  {
   "cell_type": "code",
   "execution_count": null,
   "metadata": {},
   "outputs": [],
   "source": [
    "\"\"\"\n",
    "猜数字游戏\n",
    "\n",
    "计算机出一个1~100之间的随机数由人来猜\n",
    "计算机根据人猜的数字分别给出提示大一点/小一点/猜对了\n",
    "\"\"\"\n",
    "\n",
    "import random\n",
    "\n",
    "answer = int(random.randint(1, 100))\n",
    "counter = 0\n",
    "\n",
    "while True:\n",
    "    counter += 1\n",
    "    num = int(input('Please input a number :'))\n",
    "    \n",
    "    if num > answer:\n",
    "        print('smaller')\n",
    "    elif num < answer:\n",
    "        print('bigger')\n",
    "    else:\n",
    "        print('congraduations!')\n",
    "        break\n",
    "    \n",
    "    if counter >5:\n",
    "        print('failed!')"
   ]
  },
  {
   "cell_type": "markdown",
   "metadata": {},
   "source": [
    "## 应用"
   ]
  },
  {
   "cell_type": "code",
   "execution_count": null,
   "metadata": {},
   "outputs": [],
   "source": [
    "\"\"\"\n",
    "正整数的反转\n",
    "\"\"\"\n",
    "\n",
    "num = int(input('Please input a positive integer:'))\n",
    "result = 0\n",
    "\n",
    "while num > 0:\n",
    "    result *= 10\n",
    "    result = (result * 10) + (num % 10)\n",
    "    num //= 10\n",
    "\n",
    "print(('result : %d') % (result))"
   ]
  }
 ],
 "metadata": {
  "kernelspec": {
   "display_name": "Python 3",
   "language": "python",
   "name": "python3"
  },
  "language_info": {
   "codemirror_mode": {
    "name": "ipython",
    "version": 3
   },
   "file_extension": ".py",
   "mimetype": "text/x-python",
   "name": "python",
   "nbconvert_exporter": "python",
   "pygments_lexer": "ipython3",
   "version": "3.7.4"
  }
 },
 "nbformat": 4,
 "nbformat_minor": 4
}
