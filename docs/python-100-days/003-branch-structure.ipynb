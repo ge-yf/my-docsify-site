{
 "cells": [
  {
   "cell_type": "markdown",
   "metadata": {},
   "source": [
    "# 分支结构\n",
    "\n",
    "## if语句\n",
    "\n",
    "在Python中，要构造分支结构可以使用`if`、`elif`和`else`关键字。\n",
    "\n",
    "和C/C++、Java等语言不同，Python中没有用花括号来构造代码块而是使用了缩进的方式来设置代码的层次结构，如果if条件成立的情况下需要执行多条语句，只要保持多条语句具有相同的缩进就可以了，换句话说连续的代码如果又保持了相同的缩进那么它们属于同一个代码块，相当于是一个执行的整体。\n",
    "\n",
    "例如，分段函数求值:\n",
    "\n",
    "$$f(x)=\\begin{cases} 3x-5&\\text{(x>1)}\\\\x+2&\\text{(-1}\\leq\\text{x}\\leq\\text{1)}\\\\5x+3&\\text {(x<-1)}\\end{cases}$$"
   ]
  },
  {
   "cell_type": "code",
   "execution_count": null,
   "metadata": {},
   "outputs": [],
   "source": [
    "\"\"\"\n",
    "分段函数求值\n",
    "        3x -5  (x > 1)\n",
    "f(x) =  x + 2  (-1 <= x <= 1)\n",
    "        5x + 3 (x < -1)\n",
    "\"\"\"\n",
    "\n",
    "x = float(input())\n",
    "\n",
    "\n",
    "if x > 1:\n",
    "    fx = 3 * x -5\n",
    "elif x > -1:\n",
    "    fx = x + 2\n",
    "else:\n",
    "    fx = 5 * x + 3\n",
    "\n",
    "print(('fx = %d') % (fx))"
   ]
  },
  {
   "cell_type": "markdown",
   "metadata": {},
   "source": [
    "分支可以嵌套，但是最好避免嵌套分支的情况。Python之禅中有这么一句话“Flat is better than nested.”，之所以提倡代码“扁平化”是因为嵌套结构的嵌套层次多了之后会严重的影响代码的可读性，所以能使用扁平化的结构时就不要使用嵌套。"
   ]
  }
 ],
 "metadata": {
  "kernelspec": {
   "display_name": "Python 3",
   "language": "python",
   "name": "python3"
  },
  "language_info": {
   "codemirror_mode": {
    "name": "ipython",
    "version": 3
   },
   "file_extension": ".py",
   "mimetype": "text/x-python",
   "name": "python",
   "nbconvert_exporter": "python",
   "pygments_lexer": "ipython3",
   "version": "3.7.4"
  }
 },
 "nbformat": 4,
 "nbformat_minor": 4
}
